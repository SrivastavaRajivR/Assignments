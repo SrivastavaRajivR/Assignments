{
 "cells": [
  {
   "cell_type": "markdown",
   "metadata": {},
   "source": [
    "# Task 1.1.1 - Write a Python Program to implement your own myreduce() function which works exactly like Python's built-in function reduce()"
   ]
  },
  {
   "cell_type": "code",
   "execution_count": 1,
   "metadata": {},
   "outputs": [
    {
     "data": {
      "text/plain": [
       "120"
      ]
     },
     "execution_count": 1,
     "metadata": {},
     "output_type": "execute_result"
    }
   ],
   "source": [
    "\"\"\"\n",
    "Function returns product of two numbers\n",
    "\"\"\"\n",
    "def productNums (firstNum, secondNum):\n",
    "    return (firstNum * secondNum)\n",
    "\n",
    "\n",
    "\n",
    "\"\"\"\n",
    "Function returns product of elements of list\n",
    "\"\"\"\n",
    "def myreduce(func, lst):\n",
    "    product = lst[0]\n",
    "    for index in range(1, len(lst)):\n",
    "        product = func(product, lst[index])\n",
    "    return product\n",
    "\n",
    "\n",
    "\n",
    "myreduce(productNums, [1, 2, 3, 4, 5])"
   ]
  },
  {
   "cell_type": "markdown",
   "metadata": {},
   "source": [
    "# Task 1.1.2 - Write a Python program to implement your own myfilter() function which works exactly like Python's built-in function filter()"
   ]
  },
  {
   "cell_type": "code",
   "execution_count": 2,
   "metadata": {},
   "outputs": [
    {
     "data": {
      "text/plain": [
       "[5, 3, 2, -10]"
      ]
     },
     "execution_count": 2,
     "metadata": {},
     "output_type": "execute_result"
    }
   ],
   "source": [
    "\"\"\"\n",
    "This function will return true for numbers less than 10 and false otherwise\n",
    "\"\"\"\n",
    "def checkNum(num):\n",
    "    if (10 > num):\n",
    "        return True\n",
    "    else:\n",
    "        return False\n",
    "\n",
    "    \n",
    "    \n",
    "\"\"\"\n",
    "Function returns a list of elements where each element is less than 10.\n",
    "\"\"\"\n",
    "def myfilter(func, lst):\n",
    "    returnLst = []\n",
    "    for element in lst:\n",
    "        if (True == func(element)):\n",
    "            returnLst.append(element)\n",
    "    return returnLst\n",
    "\n",
    "\n",
    "\n",
    "myfilter(checkNum, [10, 20, 15, 30, 40, 5, 3, 2, -10])\n",
    "    "
   ]
  },
  {
   "cell_type": "markdown",
   "metadata": {},
   "source": [
    "# Task 1.2 - Implement List comprehensions to produce the following lists.Write List comprehensions to produce the following Lists:\n",
    "1. ['A', 'C', 'A', 'D', 'G', 'I', ’L’, ‘ D’]\n",
    "2. ['x', 'xx', 'xxx', 'xxxx', 'y', 'yy', 'yyy', 'yyyy', 'z', 'zz', 'zzz', 'zzzz']\n",
    "3. ['x', 'y', 'z', 'xx', 'yy', 'zz', 'xx', 'yy', 'zz', 'xxxx', 'yyyy', 'zzzz']\n",
    "4. [[2], [3], [4], [3], [4], [5], [4], [5], [6]]\n",
    "5. [[2, 3, 4, 5], [3, 4, 5, 6], [4, 5, 6, 7], [5, 6, 7, 8]]\n",
    "6. [(1, 1), (2, 1), (3, 1), (1, 2), (2, 2), (3, 2), (1, 3), (2, 3), (3, 3)]"
   ]
  },
  {
   "cell_type": "code",
   "execution_count": 3,
   "metadata": {},
   "outputs": [
    {
     "name": "stdout",
     "output_type": "stream",
     "text": [
      "['A', 'C', 'A', 'D', 'G', 'I', 'L', 'D']\n"
     ]
    }
   ],
   "source": [
    "lst = [element for element in \"ACADGILD\"]\n",
    "print (lst)"
   ]
  },
  {
   "cell_type": "code",
   "execution_count": 4,
   "metadata": {},
   "outputs": [
    {
     "name": "stdout",
     "output_type": "stream",
     "text": [
      "['x', 'xx', 'xxx', 'xxxx', 'y', 'yy', 'yyy', 'yyyy', 'z', 'zz', 'zzz', 'zzzz']\n"
     ]
    }
   ],
   "source": [
    "myLst = [element * index for element in \"xyz\" for index in range (1, 5)]\n",
    "print(myLst)"
   ]
  },
  {
   "cell_type": "code",
   "execution_count": 5,
   "metadata": {},
   "outputs": [
    {
     "name": "stdout",
     "output_type": "stream",
     "text": [
      "['x', 'y', 'z', 'xx', 'yy', 'zz', 'xxx', 'yyy', 'zzz', 'xxxx', 'yyyy', 'zzzz']\n"
     ]
    }
   ],
   "source": [
    "myLst = [element * index for index in range (1, 5) for element in \"xyz\"]\n",
    "print (myLst)"
   ]
  },
  {
   "cell_type": "code",
   "execution_count": 6,
   "metadata": {},
   "outputs": [
    {
     "name": "stdout",
     "output_type": "stream",
     "text": [
      "[[2], [3], [4], [3], [4], [5], [4], [5], [6]]\n"
     ]
    }
   ],
   "source": [
    "myLst = [[element + count] for element in range (2, 5) for count in range (0, 3)]\n",
    "print (myLst)"
   ]
  },
  {
   "cell_type": "code",
   "execution_count": 7,
   "metadata": {
    "scrolled": true
   },
   "outputs": [
    {
     "name": "stdout",
     "output_type": "stream",
     "text": [
      "[[2, 3, 4, 5], [3, 4, 5, 6], [4, 5, 6, 7], [5, 6, 7, 8]]\n"
     ]
    }
   ],
   "source": [
    "myLst = [[index + counter for index in range (2, 6)] for counter in range (0, 4)]\n",
    "print (myLst)"
   ]
  },
  {
   "cell_type": "code",
   "execution_count": 8,
   "metadata": {
    "scrolled": true
   },
   "outputs": [
    {
     "name": "stdout",
     "output_type": "stream",
     "text": [
      "[(1, 1), (2, 1), (3, 1), (1, 2), (2, 2), (3, 2), (1, 3), (2, 3), (3, 3)]\n"
     ]
    }
   ],
   "source": [
    "myLst = [(x, y) for y in range (1, 4) for x in range (1, 4)]\n",
    "print (myLst)"
   ]
  },
  {
   "cell_type": "markdown",
   "metadata": {},
   "source": [
    "# Task 1.3 - Implement a function longestWord() that takes a list of words and returns the longest one."
   ]
  },
  {
   "cell_type": "code",
   "execution_count": 9,
   "metadata": {},
   "outputs": [
    {
     "data": {
      "text/plain": [
       "'HimalayanWood'"
      ]
     },
     "execution_count": 9,
     "metadata": {},
     "output_type": "execute_result"
    }
   ],
   "source": [
    "\"\"\"\n",
    "Function takes a list as argument then creates another list with length of each word \n",
    "of the first list and then finds the word with maximum length and returns it.\n",
    "\"\"\"\n",
    "\n",
    "def longestWord(lst):\n",
    "    lstLen = len(lst)\n",
    "    wordLength = []\n",
    "    max = 0\n",
    "    for index in range(0, lstLen):\n",
    "        wordLength.append(len(lst[index]))\n",
    "    length = len(wordLength)\n",
    "    for index in range (0, length):\n",
    "        if (wordLength[index] > wordLength[max]):\n",
    "            max = index\n",
    "    return(lst[max])\n",
    "\n",
    "\n",
    "\n",
    "lst = [\"Hello\", \"Hi\", \"Bangalore\", \"India\", \"Jharkhand\", \"HimalayanWood\"]\n",
    "longestWord(lst)"
   ]
  },
  {
   "cell_type": "markdown",
   "metadata": {},
   "source": [
    "# Task 2.1.1 - Write a Python Program(with class concepts) to find the area of the triangle using the below formula. area = (s*(s-a)*(s-b)*(s-c)) ** 0.5 Function to take the length of the sides of triangle from user should be defined in the parent class and function to calculate the area should be defined in subclass."
   ]
  },
  {
   "cell_type": "code",
   "execution_count": 10,
   "metadata": {},
   "outputs": [
    {
     "name": "stdout",
     "output_type": "stream",
     "text": [
      "Enter Side 1:- 3\n",
      "Enter Side 2:- 5\n",
      "Enter Side 3:- 4\n",
      "Area of Traingle with sides 3.0, 5.0 and 4.0 is 6.0\n"
     ]
    }
   ],
   "source": [
    "class Polygon:\n",
    "    def __init__(self, numSides):\n",
    "        self.numSides = numSides\n",
    "        self.sides = [0 for index in range (numSides)]\n",
    "        \n",
    "    def inputSides (self):\n",
    "        self.sides = [float (input (\"Enter Side \" + str (index + 1) + \":- \")) for index in range (self.numSides)]\n",
    "\n",
    "class Triangle (Polygon):\n",
    "    def __init__ (self):\n",
    "        Polygon.__init__(self, 3)\n",
    "    \n",
    "    def calculateArea (self):\n",
    "        a, b, c = self.sides\n",
    "        peri = (a + b + c) / 2\n",
    "        area = (peri * (peri - a) * (peri - b) * (peri - c)) ** 0.5\n",
    "        print (\"Area of Traingle with sides {}, {} and {} is {}\".format(a, b, c, area))\n",
    "\n",
    "        \n",
    "\n",
    "tri = Triangle()\n",
    "tri.inputSides()\n",
    "tri.calculateArea()"
   ]
  },
  {
   "cell_type": "markdown",
   "metadata": {},
   "source": [
    "# Task 2.1.2 - Write a function filter_long_words() that takes a list of words and an integer n and returns the list of words that are longer than n."
   ]
  },
  {
   "cell_type": "code",
   "execution_count": 11,
   "metadata": {},
   "outputs": [
    {
     "data": {
      "text/plain": [
       "['Hello', 'Bangalore', 'Ramayana']"
      ]
     },
     "execution_count": 11,
     "metadata": {},
     "output_type": "execute_result"
    }
   ],
   "source": [
    "def filter_long_words(lst, num):\n",
    "    myList = []\n",
    "    for element in lst:\n",
    "        if (len(element) > num):\n",
    "            myList.append(element)\n",
    "    return (myList)\n",
    "\n",
    "\n",
    "\n",
    "lst = [\"Hello\", \"Hi\", \"Bangalore\", \"Ramayana\", \"Ram\"]\n",
    "filter_long_words(lst, 3)"
   ]
  },
  {
   "cell_type": "markdown",
   "metadata": {},
   "source": [
    "# Task 2.2.1 - Write a Python program using function concept that maps list of words into a list of integers representing the lengths of the corresponding words ."
   ]
  },
  {
   "cell_type": "code",
   "execution_count": 12,
   "metadata": {},
   "outputs": [
    {
     "data": {
      "text/plain": [
       "[2, 5, 3, 3, 3]"
      ]
     },
     "execution_count": 12,
     "metadata": {},
     "output_type": "execute_result"
    }
   ],
   "source": [
    "def findLength(lst):\n",
    "    wordLength = []\n",
    "    for element in lst:\n",
    "        wordLength.append(len(element))\n",
    "    return wordLength\n",
    "\n",
    "\n",
    "\n",
    "findLength([\"Hi\", \"Hello\", \"How\", \"Are\", \"You\"])"
   ]
  },
  {
   "cell_type": "markdown",
   "metadata": {},
   "source": [
    "# Task 2.2.2 - Write a Python function which takes a character (i.e. a string of length 1) and returns True if it is a vowel, False otherwise."
   ]
  },
  {
   "cell_type": "code",
   "execution_count": 13,
   "metadata": {},
   "outputs": [
    {
     "data": {
      "text/plain": [
       "False"
      ]
     },
     "execution_count": 13,
     "metadata": {},
     "output_type": "execute_result"
    }
   ],
   "source": [
    "\"\"\"\n",
    "Function returns true is the passed character is a vowel and false otherwise\n",
    "\"\"\"\n",
    "\n",
    "def findVowel(char):\n",
    "    if char in \"aeiou\":\n",
    "        return True\n",
    "    else:\n",
    "        return False\n",
    "\n",
    "    \n",
    "    \n",
    "findVowel(\"c\")"
   ]
  }
 ],
 "metadata": {
  "kernelspec": {
   "display_name": "Python 3",
   "language": "python",
   "name": "python3"
  },
  "language_info": {
   "codemirror_mode": {
    "name": "ipython",
    "version": 3
   },
   "file_extension": ".py",
   "mimetype": "text/x-python",
   "name": "python",
   "nbconvert_exporter": "python",
   "pygments_lexer": "ipython3",
   "version": "3.7.1"
  }
 },
 "nbformat": 4,
 "nbformat_minor": 4
}
