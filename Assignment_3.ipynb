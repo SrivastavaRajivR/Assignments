{
 "cells": [
  {
   "cell_type": "markdown",
   "metadata": {},
   "source": [
    "Problem: Write a program that accepts two integers n,k and finds n^{1/k}. The algorithm behind your program should run in time polynomial in log n. Math libraries are not allowed.\n",
    "\n",
    "Input format: The first line of the input consists of a number t ≥ 1 of test cases. Each subsequent line consists of pairs n,k separated by a space. An example is given below.\n",
    "\n",
    "Sample Input:\n",
    "3\n",
    "64 3\n",
    "15 2\n",
    "10 5\n",
    "\n",
    "Sample Output:\n",
    "4\n",
    "3\n",
    "1\n",
    "\n",
    "Constraints: 1 ≤ n ≤ 1016, 1 ≤ k ≤ n."
   ]
  },
  {
   "cell_type": "code",
   "execution_count": 1,
   "metadata": {},
   "outputs": [
    {
     "name": "stdout",
     "output_type": "stream",
     "text": [
      "1\n"
     ]
    }
   ],
   "source": [
    "#The function takes two inputs num and exp and returns\n",
    "#num to the power of exp\n",
    "def power(num, exp):\n",
    "    retVal = 1\n",
    "    for index in range(exp):\n",
    "        retVal *= num\n",
    "    return retVal\n",
    "\n",
    "\n",
    "#The function searches for an element in array and returns the array index\n",
    "#if the element is found in array otherwsie returns (index -1)\n",
    "def binarySearch(arr, low, high, element):\n",
    "    mid = low + (high - low) // 2\n",
    "    if(high >= low):\n",
    "        if(element == arr[mid]):\n",
    "            return mid\n",
    "        elif(element < arr[mid]):\n",
    "            return binarySearch(arr, low, mid - 1, element)\n",
    "        else:\n",
    "            return binarySearch(arr, mid + 1, high, element)\n",
    "    else:\n",
    "        return mid\n",
    "    \n",
    "    \n",
    "#Input in form of (num, exp)    \n",
    "num = 10\n",
    "exp = 5 \n",
    "arr = [power(index, exp) for index in range(num + 1)]\n",
    "print(binarySearch(arr, 0, len(arr), num))"
   ]
  },
  {
   "cell_type": "markdown",
   "metadata": {},
   "source": [
    "Problem: Given an array A[1,2,...,n] of distinct elements, an inversion is a pair (i,j) of indices such that i < j and A[i] > A[j]. Eg: The sequence 3, 8, 0, -4,1 has 7 inversions, namely the pairs (1,3), (1,4), (1,5), (2,3), (2,4), (2,5), (3,4).\n",
    "Write a program to count the number of inversions of a given array. The algorithm behind your input should run in O(n logn) time.\n",
    "\n",
    "Input format: The first line of the input consists of a single integer: n, the number of elements in the array. The second line of the input consists of the elements of the array, separated by a space.\n",
    "\n",
    "Sample Input:\n",
    "5\n",
    "3 8 0 -4 -1\n",
    "\n",
    "Sample Output:\n",
    "7\n",
    "\n",
    "Constraints: n ≤ 105."
   ]
  },
  {
   "cell_type": "code",
   "execution_count": 2,
   "metadata": {},
   "outputs": [
    {
     "name": "stdout",
     "output_type": "stream",
     "text": [
      "Total inversions = 8\n"
     ]
    }
   ],
   "source": [
    "counter = 0 #global varible\n",
    "\n",
    "#This function counts for cases where array index i is less than j but\n",
    "#the value at index i is greater than j.\n",
    "def merge(arrLeft, arrRight):\n",
    "    global counter\n",
    "    lenL = len(arrLeft) #lenght of left subarray\n",
    "    lenR = len(arrRight) #length of right subarray\n",
    "    indexL = 0 #left array index\n",
    "    indexR = 0 #right array index\n",
    "    arr = []\n",
    "    \n",
    "    #if value at Array[i] < Array[j] then increase the counter by 1\n",
    "    while(indexL < lenL):\n",
    "        if(arrLeft[indexL] > arrRight[indexR]):\n",
    "            counter += 1\n",
    "        indexR += 1\n",
    "        if(indexR == lenR):\n",
    "            indexL += 1\n",
    "            indexR = 0\n",
    "    \n",
    "    #Just append left and right subarrays, no need of sorting\n",
    "    indexL = 0\n",
    "    while (indexL < lenL):\n",
    "        arr.append(arrLeft[indexL])\n",
    "        indexL += 1\n",
    "    \n",
    "    indexR = 0\n",
    "    while (indexR < lenR):\n",
    "        arr.append(arrRight[indexR])\n",
    "        indexR += 1\n",
    "\n",
    "    return (arr)\n",
    "\n",
    "\n",
    "def mergeSort (arr):\n",
    "    arrLen = len (arr)\n",
    "    if (1 == arrLen):\n",
    "        return arr\n",
    "    else:\n",
    "        mid = arrLen // 2\n",
    "        arrLeft = mergeSort(arr[:mid])\n",
    "        arrRight = mergeSort (arr[mid:])\n",
    "    return (merge (arrLeft, arrRight))\n",
    "    \n",
    "arr = [3, 8, 0, -4, -1]\n",
    "arr = mergeSort(arr)\n",
    "print (f\"Total inversions = {counter}\")"
   ]
  }
 ],
 "metadata": {
  "kernelspec": {
   "display_name": "Python 3",
   "language": "python",
   "name": "python3"
  },
  "language_info": {
   "codemirror_mode": {
    "name": "ipython",
    "version": 3
   },
   "file_extension": ".py",
   "mimetype": "text/x-python",
   "name": "python",
   "nbconvert_exporter": "python",
   "pygments_lexer": "ipython3",
   "version": "3.8.3"
  }
 },
 "nbformat": 4,
 "nbformat_minor": 4
}
