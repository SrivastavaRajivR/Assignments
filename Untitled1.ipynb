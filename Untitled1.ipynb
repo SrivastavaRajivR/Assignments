{
 "cells": [
  {
   "cell_type": "code",
   "execution_count": null,
   "metadata": {},
   "outputs": [],
   "source": [
    "counter = 0\n",
    "\n",
    "def merge (arrLeft, arrRight):\n",
    "    global counter\n",
    "    lenL = len (arrLeft)\n",
    "    lenR = len (arrRight)\n",
    "    indexL = 0\n",
    "    indexR = 0\n",
    "    arr = []\n",
    "    print (\"Left Array = \", arrLeft, sep = \"\")\n",
    "    print (\"Right Array = \", arrRight, sep = \"\")\n",
    "    while(indexL < lenL):\n",
    "        if(arrLeft[indexL] > arrRight[indexR]):\n",
    "            counter += 1\n",
    "        indexR += 1\n",
    "        if(indexR == lenR):\n",
    "            indexL += 1\n",
    "            indexR = 0\n",
    "    indexL = 0\n",
    "    while (indexL < lenL):\n",
    "        arr.append(arrLeft[indexL])\n",
    "        indexL += 1\n",
    "    indexR = 0\n",
    "    while (indexR < lenR):\n",
    "        arr.append(arrRight[indexR])\n",
    "        indexR += 1\n",
    "    print (\"Final Array = \", arr, sep = \"\") \n",
    "    print(counter)\n",
    "    print (\"*************************************\")\n",
    "    return (arr)\n",
    "\n",
    "\n",
    "def mergeSort (arr):\n",
    "    arrLen = len (arr)\n",
    "    if (1 == arrLen):\n",
    "        return arr\n",
    "    else:\n",
    "        mid = arrLen // 2\n",
    "        arrLeft = mergeSort(arr[:mid])\n",
    "        arrRight = mergeSort (arr[mid:])\n",
    "    return (merge (arrLeft, arrRight))\n",
    "    \n",
    "arr = [3, 8, 0, -4, 1]\n",
    "arr = mergeSort(arr)\n",
    "print (arr)"
   ]
  }
 ],
 "metadata": {
  "kernelspec": {
   "display_name": "Python 3",
   "language": "python",
   "name": "python3"
  },
  "language_info": {
   "codemirror_mode": {
    "name": "ipython",
    "version": 3
   },
   "file_extension": ".py",
   "mimetype": "text/x-python",
   "name": "python",
   "nbconvert_exporter": "python",
   "pygments_lexer": "ipython3",
   "version": "3.8.3"
  }
 },
 "nbformat": 4,
 "nbformat_minor": 4
}
